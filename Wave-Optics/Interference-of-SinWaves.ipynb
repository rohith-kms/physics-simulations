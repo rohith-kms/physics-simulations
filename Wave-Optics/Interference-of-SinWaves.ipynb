{
 "cells": [
  {
   "cell_type": "code",
   "execution_count": 33,
   "id": "f9223dab",
   "metadata": {},
   "outputs": [],
   "source": [
    "import numpy as np\n",
    "import matplotlib.pyplot as plt\n",
    "\n",
    "import ipywidgets as widgets\n",
    "from ipywidgets import interact\n",
    "\n",
    "plt.rcParams[\"figure.figsize\"] = (15, 8)"
   ]
  },
  {
   "cell_type": "code",
   "execution_count": 2,
   "id": "95d51cc2",
   "metadata": {},
   "outputs": [],
   "source": [
    "xs = np.linspace(0,10,1000)"
   ]
  },
  {
   "cell_type": "code",
   "execution_count": 55,
   "id": "1d6c0349",
   "metadata": {},
   "outputs": [],
   "source": [
    "w = 2*np.pi\n",
    "k = 2*np.pi/4\n",
    "\n",
    "def wave1(x,t):\n",
    "    \n",
    "    return 10*np.sin(w*t - k*x)\n",
    "\n",
    "def wave2(x,t,ph):\n",
    "    \n",
    "    return 10*np.sin(w*t - k*x + ph)"
   ]
  },
  {
   "cell_type": "code",
   "execution_count": 60,
   "id": "ef6bd463",
   "metadata": {},
   "outputs": [],
   "source": [
    "# Function to draw waves\n",
    "\n",
    "def plot_waves(t,ph):\n",
    "    \n",
    "    fix, ax = plt.subplots()\n",
    "    ax.xlabel=\"x\"\n",
    "    ax.ylabel=\"amplitude\"\n",
    "    ax.plot(xs, wave1(xs,t))\n",
    "    ax.plot(xs, wave2(xs,t, ph))\n",
    "    ax.plot(xs, wave1(xs,t)+wave2(xs,t, ph),linestyle='--')\n",
    "    ax.set_ylim(-20,20)\n",
    "    ax.set_title('Phase difference = '+str(ph/np.pi)+ \" pi radians\")\n",
    "    ax.legend(['wave1','wave2','resultant wave'])\n",
    "    "
   ]
  },
  {
   "cell_type": "code",
   "execution_count": 63,
   "id": "87673a37",
   "metadata": {},
   "outputs": [
    {
     "data": {
      "application/vnd.jupyter.widget-view+json": {
       "model_id": "2dfe7f9a1bf94d299ffd9d0dab6ca24f",
       "version_major": 2,
       "version_minor": 0
      },
      "text/plain": [
       "interactive(children=(FloatSlider(value=0.0, description='t', max=2.0, step=0.05), FloatSlider(value=0.0, desc…"
      ]
     },
     "metadata": {},
     "output_type": "display_data"
    },
    {
     "data": {
      "text/plain": [
       "<function __main__.plot_waves(t, ph)>"
      ]
     },
     "execution_count": 63,
     "metadata": {},
     "output_type": "execute_result"
    }
   ],
   "source": [
    "interact(plot_waves, t=widgets.FloatSlider(min=0,max=2,step=0.05),ph=widgets.FloatSlider(min=0,max=3.5,step=np.pi/12))"
   ]
  },
  {
   "cell_type": "code",
   "execution_count": null,
   "id": "fa4ad50c",
   "metadata": {},
   "outputs": [],
   "source": []
  }
 ],
 "metadata": {
  "kernelspec": {
   "display_name": "Python 3 (ipykernel)",
   "language": "python",
   "name": "python3"
  },
  "language_info": {
   "codemirror_mode": {
    "name": "ipython",
    "version": 3
   },
   "file_extension": ".py",
   "mimetype": "text/x-python",
   "name": "python",
   "nbconvert_exporter": "python",
   "pygments_lexer": "ipython3",
   "version": "3.9.13"
  }
 },
 "nbformat": 4,
 "nbformat_minor": 5
}
