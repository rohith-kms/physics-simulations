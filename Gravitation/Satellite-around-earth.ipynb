{
 "cells": [
  {
   "cell_type": "code",
   "execution_count": 8,
   "id": "e32e0503",
   "metadata": {},
   "outputs": [],
   "source": [
    "import numpy as np\n",
    "import matplotlib.pyplot as plt"
   ]
  },
  {
   "cell_type": "code",
   "execution_count": 9,
   "id": "946cb340",
   "metadata": {},
   "outputs": [],
   "source": [
    "# Enter the relevant values\n",
    "\n",
    "h = 42 # x 1000 kms above earth's surface\n",
    "v = 3.1*18/5 # x1000 kmph\n",
    "g = 36*3.6 #acceleration due to gravity at surface (x1000 km/h^2)\n",
    "r = 6.4 # x1000 kms"
   ]
  },
  {
   "cell_type": "code",
   "execution_count": 10,
   "id": "7e646005",
   "metadata": {},
   "outputs": [],
   "source": [
    "# Initialise positions and velocities (reduced units)\n",
    "\n",
    "pos = np.array([0,h+r])\n",
    "vel = np.array([v,0])\n",
    "org = np.array([0,0])"
   ]
  },
  {
   "cell_type": "code",
   "execution_count": 11,
   "id": "1f4bedd2",
   "metadata": {},
   "outputs": [],
   "source": [
    "# Calculate forces\n",
    "\n",
    "def a(pos):\n",
    "    \n",
    "    d = np.linalg.norm(pos)\n",
    "    vector = -pos/d\n",
    "       \n",
    "    return (g*r**2/d**2)*vector"
   ]
  },
  {
   "cell_type": "code",
   "execution_count": 12,
   "id": "ed401c69",
   "metadata": {},
   "outputs": [],
   "source": [
    "# Setting up loop\n",
    "\n",
    "time = 100 #hours\n",
    "\n",
    "timesteps = time*1000\n",
    "dt = 0.001\n",
    "\n",
    "pos_init = pos\n",
    "pos_next = pos+vel*dt\n",
    "\n",
    "positions = np.zeros((timesteps,2))\n",
    "positions[0] = pos_init\n",
    "positions[1] = pos_next"
   ]
  },
  {
   "cell_type": "code",
   "execution_count": 13,
   "id": "f3ff39bd",
   "metadata": {},
   "outputs": [],
   "source": [
    "# Main loop\n",
    "\n",
    "for t in range(2,timesteps):\n",
    "    \n",
    "    positions[t] = 2*positions[t-1] - positions[t-2] + a(positions[t-1])*dt*dt"
   ]
  },
  {
   "cell_type": "code",
   "execution_count": 14,
   "id": "f408c379",
   "metadata": {},
   "outputs": [
    {
     "data": {
      "text/plain": [
       "[<matplotlib.lines.Line2D at 0x7fb3e0ad1550>]"
      ]
     },
     "execution_count": 14,
     "metadata": {},
     "output_type": "execute_result"
    },
    {
     "data": {
      "image/png": "[encoded data removed]",
      "text/plain": [
       "<Figure size 504x504 with 1 Axes>"
      ]
     },
     "metadata": {
      "needs_background": "light"
     },
     "output_type": "display_data"
    }
   ],
   "source": [
    "# Plotting the path\n",
    "\n",
    "fig, ax = plt.subplots(figsize=(7,7))\n",
    "\n",
    "ax.set_aspect(1)\n",
    "\n",
    "earth_drawing = plt.Circle((0,0),6.4, color=\"green\")\n",
    "ax.add_artist(earth_drawing)\n",
    "\n",
    "ax.plot(positions[:,0],positions[:,1])"
   ]
  },
  {
   "cell_type": "code",
   "execution_count": null,
   "id": "3906c898",
   "metadata": {},
   "outputs": [],
   "source": []
  },
  {
   "cell_type": "code",
   "execution_count": null,
   "id": "8fbe5e85",
   "metadata": {},
   "outputs": [],
   "source": []
  }
 ],
 "metadata": {
  "kernelspec": {
   "display_name": "Python 3 (ipykernel)",
   "language": "python",
   "name": "python3"
  },
  "language_info": {
   "codemirror_mode": {
    "name": "ipython",
    "version": 3
   },
   "file_extension": ".py",
   "mimetype": "text/x-python",
   "name": "python",
   "nbconvert_exporter": "python",
   "pygments_lexer": "ipython3",
   "version": "3.9.7"
  }
 },
 "nbformat": 4,
 "nbformat_minor": 5
}
