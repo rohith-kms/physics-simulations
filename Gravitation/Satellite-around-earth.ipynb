{
 "cells": [
  {
   "cell_type": "code",
   "execution_count": 1,
   "id": "f3210c98",
   "metadata": {},
   "outputs": [],
   "source": [
    "import numpy as np\n",
    "import matplotlib.pyplot as plt"
   ]
  },
  {
   "cell_type": "code",
   "execution_count": 2,
   "id": "83971176",
   "metadata": {},
   "outputs": [],
   "source": [
    "# Enter the relevant values\n",
    "\n",
    "height = 10000 #kms above earth's surface\n",
    "speed = 1000 #kmph\n",
    "time = 24 #hours\n",
    "\n",
    "g = 36*3600 #km/h^2"
   ]
  },
  {
   "cell_type": "code",
   "execution_count": null,
   "id": "f841f57d",
   "metadata": {},
   "outputs": [],
   "source": []
  }
 ],
 "metadata": {
  "kernelspec": {
   "display_name": "Python 3 (ipykernel)",
   "language": "python",
   "name": "python3"
  },
  "language_info": {
   "codemirror_mode": {
    "name": "ipython",
    "version": 3
   },
   "file_extension": ".py",
   "mimetype": "text/x-python",
   "name": "python",
   "nbconvert_exporter": "python",
   "pygments_lexer": "ipython3",
   "version": "3.9.13"
  }
 },
 "nbformat": 4,
 "nbformat_minor": 5
}
